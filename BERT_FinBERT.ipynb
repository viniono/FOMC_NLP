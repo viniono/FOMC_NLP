{
 "cells": [
  {
   "cell_type": "code",
   "execution_count": 53,
   "metadata": {},
   "outputs": [],
   "source": [
    "import pandas as pd\n",
    "import torch\n",
    "import torch.nn as nn\n",
    "import torch.optim as optim\n",
    "from transformers import DistilBertModel, DistilBertTokenizer\n",
    "from torch.utils.data import DataLoader, Dataset\n",
    "from sklearn.model_selection import train_test_split"
   ]
  },
  {
   "cell_type": "code",
   "execution_count": 58,
   "metadata": {},
   "outputs": [],
   "source": [
    "df = pd.read_csv(\"FOMC_data_no_token_BERT.csv\")\n",
    "df = df.drop(columns = [\"Unnamed: 0.1\", \"Unnamed: 0\"], axis = 1)"
   ]
  },
  {
   "cell_type": "code",
   "execution_count": 59,
   "metadata": {},
   "outputs": [
    {
     "data": {
      "text/html": [
       "<div>\n",
       "<style scoped>\n",
       "    .dataframe tbody tr th:only-of-type {\n",
       "        vertical-align: middle;\n",
       "    }\n",
       "\n",
       "    .dataframe tbody tr th {\n",
       "        vertical-align: top;\n",
       "    }\n",
       "\n",
       "    .dataframe thead th {\n",
       "        text-align: right;\n",
       "    }\n",
       "</style>\n",
       "<table border=\"1\" class=\"dataframe\">\n",
       "  <thead>\n",
       "    <tr style=\"text-align: right;\">\n",
       "      <th></th>\n",
       "      <th>date</th>\n",
       "      <th>minutes</th>\n",
       "      <th>tar_rate_new</th>\n",
       "      <th>next_tar_rate</th>\n",
       "      <th>change</th>\n",
       "      <th>does_change</th>\n",
       "      <th>label_delta</th>\n",
       "    </tr>\n",
       "  </thead>\n",
       "  <tbody>\n",
       "    <tr>\n",
       "      <th>0</th>\n",
       "      <td>1993-02-03</td>\n",
       "      <td>A meeting of the Federal Open Market Committee...</td>\n",
       "      <td>3.00</td>\n",
       "      <td>3.00</td>\n",
       "      <td>0.00</td>\n",
       "      <td>0</td>\n",
       "      <td>no change</td>\n",
       "    </tr>\n",
       "    <tr>\n",
       "      <th>1</th>\n",
       "      <td>1993-03-23</td>\n",
       "      <td>A meeting of the Federal Open Market Committee...</td>\n",
       "      <td>3.00</td>\n",
       "      <td>3.00</td>\n",
       "      <td>0.00</td>\n",
       "      <td>0</td>\n",
       "      <td>no change</td>\n",
       "    </tr>\n",
       "    <tr>\n",
       "      <th>2</th>\n",
       "      <td>1993-05-18</td>\n",
       "      <td>A meeting of the Federal Open Market Committee...</td>\n",
       "      <td>3.00</td>\n",
       "      <td>3.00</td>\n",
       "      <td>0.00</td>\n",
       "      <td>0</td>\n",
       "      <td>no change</td>\n",
       "    </tr>\n",
       "    <tr>\n",
       "      <th>3</th>\n",
       "      <td>1993-07-07</td>\n",
       "      <td>A meeting of the Federal Open Market Committee...</td>\n",
       "      <td>3.00</td>\n",
       "      <td>3.00</td>\n",
       "      <td>0.00</td>\n",
       "      <td>0</td>\n",
       "      <td>no change</td>\n",
       "    </tr>\n",
       "    <tr>\n",
       "      <th>4</th>\n",
       "      <td>1993-08-17</td>\n",
       "      <td>A meeting of the Federal Open Market Committee...</td>\n",
       "      <td>3.00</td>\n",
       "      <td>3.00</td>\n",
       "      <td>0.00</td>\n",
       "      <td>0</td>\n",
       "      <td>no change</td>\n",
       "    </tr>\n",
       "    <tr>\n",
       "      <th>...</th>\n",
       "      <td>...</td>\n",
       "      <td>...</td>\n",
       "      <td>...</td>\n",
       "      <td>...</td>\n",
       "      <td>...</td>\n",
       "      <td>...</td>\n",
       "      <td>...</td>\n",
       "    </tr>\n",
       "    <tr>\n",
       "      <th>235</th>\n",
       "      <td>2022-09-21</td>\n",
       "      <td>The Federal Reserve, the central bank of the U...</td>\n",
       "      <td>3.25</td>\n",
       "      <td>4.00</td>\n",
       "      <td>0.75</td>\n",
       "      <td>1</td>\n",
       "      <td>Increase</td>\n",
       "    </tr>\n",
       "    <tr>\n",
       "      <th>236</th>\n",
       "      <td>2022-11-02</td>\n",
       "      <td>The Federal Reserve, the central bank of the U...</td>\n",
       "      <td>4.00</td>\n",
       "      <td>4.50</td>\n",
       "      <td>0.50</td>\n",
       "      <td>1</td>\n",
       "      <td>Increase</td>\n",
       "    </tr>\n",
       "    <tr>\n",
       "      <th>237</th>\n",
       "      <td>2022-12-14</td>\n",
       "      <td>The Federal Reserve, the central bank of the U...</td>\n",
       "      <td>4.50</td>\n",
       "      <td>4.75</td>\n",
       "      <td>0.25</td>\n",
       "      <td>1</td>\n",
       "      <td>Increase</td>\n",
       "    </tr>\n",
       "    <tr>\n",
       "      <th>238</th>\n",
       "      <td>2023-02-01</td>\n",
       "      <td>The Federal Reserve, the central bank of the U...</td>\n",
       "      <td>4.75</td>\n",
       "      <td>5.00</td>\n",
       "      <td>0.25</td>\n",
       "      <td>1</td>\n",
       "      <td>Increase</td>\n",
       "    </tr>\n",
       "    <tr>\n",
       "      <th>239</th>\n",
       "      <td>2023-03-22</td>\n",
       "      <td>The Federal Reserve, the central bank of the U...</td>\n",
       "      <td>5.00</td>\n",
       "      <td>5.25</td>\n",
       "      <td>0.25</td>\n",
       "      <td>1</td>\n",
       "      <td>Increase</td>\n",
       "    </tr>\n",
       "  </tbody>\n",
       "</table>\n",
       "<p>240 rows × 7 columns</p>\n",
       "</div>"
      ],
      "text/plain": [
       "           date                                            minutes  \\\n",
       "0    1993-02-03  A meeting of the Federal Open Market Committee...   \n",
       "1    1993-03-23  A meeting of the Federal Open Market Committee...   \n",
       "2    1993-05-18  A meeting of the Federal Open Market Committee...   \n",
       "3    1993-07-07  A meeting of the Federal Open Market Committee...   \n",
       "4    1993-08-17  A meeting of the Federal Open Market Committee...   \n",
       "..          ...                                                ...   \n",
       "235  2022-09-21  The Federal Reserve, the central bank of the U...   \n",
       "236  2022-11-02  The Federal Reserve, the central bank of the U...   \n",
       "237  2022-12-14  The Federal Reserve, the central bank of the U...   \n",
       "238  2023-02-01  The Federal Reserve, the central bank of the U...   \n",
       "239  2023-03-22  The Federal Reserve, the central bank of the U...   \n",
       "\n",
       "     tar_rate_new  next_tar_rate  change  does_change label_delta  \n",
       "0            3.00           3.00    0.00            0   no change  \n",
       "1            3.00           3.00    0.00            0   no change  \n",
       "2            3.00           3.00    0.00            0   no change  \n",
       "3            3.00           3.00    0.00            0   no change  \n",
       "4            3.00           3.00    0.00            0   no change  \n",
       "..            ...            ...     ...          ...         ...  \n",
       "235          3.25           4.00    0.75            1    Increase  \n",
       "236          4.00           4.50    0.50            1    Increase  \n",
       "237          4.50           4.75    0.25            1    Increase  \n",
       "238          4.75           5.00    0.25            1    Increase  \n",
       "239          5.00           5.25    0.25            1    Increase  \n",
       "\n",
       "[240 rows x 7 columns]"
      ]
     },
     "execution_count": 59,
     "metadata": {},
     "output_type": "execute_result"
    }
   ],
   "source": [
    "df"
   ]
  },
  {
   "cell_type": "code",
   "execution_count": 64,
   "metadata": {},
   "outputs": [],
   "source": [
    "X = df[\"minutes\"]\n",
    "y = df[\"label_delta\"].astype(\"category\").cat.codes \n",
    "X_train, X_test, y_train, y_test = train_test_split(X, y, test_size = 0.2, random_state=10 )"
   ]
  },
  {
   "attachments": {},
   "cell_type": "markdown",
   "metadata": {},
   "source": [
    "### Set up DistilBert model and dataloader"
   ]
  },
  {
   "cell_type": "code",
   "execution_count": 65,
   "metadata": {},
   "outputs": [],
   "source": [
    "class FedRatePredictor(nn.Module):\n",
    "    def __init__(self, num_classes=3, pretrained_model_name='distilbert-base-uncased'):\n",
    "        super(FedRatePredictor, self).__init__()\n",
    "        self.tokenizer = DistilBertTokenizer.from_pretrained(pretrained_model_name)\n",
    "        self.encoder = DistilBertModel.from_pretrained(pretrained_model_name)\n",
    "        self.fc = nn.Linear(self.encoder.config.hidden_size, num_classes)\n",
    "\n",
    "    def forward(self, input_text):\n",
    "        tokens = self.tokenizer(input_text, padding=True, truncation=True, return_tensors='pt')\n",
    "        embeddings = self.encoder(**tokens).last_hidden_state\n",
    "        pooled_output = embeddings[:, 0, :]\n",
    "        output = self.fc(pooled_output)\n",
    "        return output\n",
    "    \n",
    "class FOMCDataset(Dataset):\n",
    "    def __init__(self, X, y):\n",
    "        self.X = X\n",
    "        self.y = y\n",
    "\n",
    "    def __len__(self):\n",
    "        return len(self.X)\n",
    "\n",
    "    def __getitem__(self, idx):\n",
    "        return {\"Text\": self.X.iloc[idx], \"Diff\": self.y.iloc[idx]}\n",
    "    \n",
    "train_dataset = FOMCDataset(X_train, y_train)\n",
    "test_dataset = FOMCDataset(X_test, y_test)\n",
    "\n",
    "train_dataloader = DataLoader(train_dataset, batch_size=4, shuffle=True)\n",
    "test_dataloader = DataLoader(test_dataset, batch_size=4, shuffle=False)"
   ]
  },
  {
   "attachments": {},
   "cell_type": "markdown",
   "metadata": {},
   "source": [
    "### Training the DistilBert model"
   ]
  },
  {
   "cell_type": "code",
   "execution_count": 67,
   "metadata": {},
   "outputs": [
    {
     "name": "stderr",
     "output_type": "stream",
     "text": [
      "Some weights of the model checkpoint at distilbert-base-uncased were not used when initializing DistilBertModel: ['vocab_projector.bias', 'vocab_layer_norm.weight', 'vocab_transform.weight', 'vocab_transform.bias', 'vocab_projector.weight', 'vocab_layer_norm.bias']\n",
      "- This IS expected if you are initializing DistilBertModel from the checkpoint of a model trained on another task or with another architecture (e.g. initializing a BertForSequenceClassification model from a BertForPreTraining model).\n",
      "- This IS NOT expected if you are initializing DistilBertModel from the checkpoint of a model that you expect to be exactly identical (initializing a BertForSequenceClassification model from a BertForSequenceClassification model).\n"
     ]
    },
    {
     "name": "stdout",
     "output_type": "stream",
     "text": [
      "Epoch 1/10, Loss: 1.5980125181376934\n",
      "Epoch 2/10, Loss: 1.1332616278280814\n",
      "Epoch 3/10, Loss: 1.0016082382450502\n",
      "Epoch 4/10, Loss: 1.0022477805614471\n",
      "Epoch 5/10, Loss: 0.710025509664168\n",
      "Epoch 6/10, Loss: 0.813838025710235\n",
      "Epoch 7/10, Loss: 0.9894269929112246\n",
      "Epoch 8/10, Loss: 1.0540623317162197\n"
     ]
    }
   ],
   "source": [
    "model = FedRatePredictor(num_classes=3)\n",
    "criterion = nn.CrossEntropyLoss()\n",
    "optimizer = optim.Adam(model.parameters(), lr=0.001)\n",
    "\n",
    "num_epochs = 10\n",
    "for epoch in range(num_epochs):\n",
    "    epoch_loss = 0\n",
    "    model.train()\n",
    "    for batch in train_dataloader:\n",
    "        minutes, label = batch['Text'][0], batch['Diff'][0].item()\n",
    "\n",
    "        # Forward pass\n",
    "        output = model(minutes)\n",
    "        target = torch.tensor([label], dtype=torch.long)\n",
    "        loss = criterion(output, target)\n",
    "\n",
    "        # Backward pass\n",
    "        optimizer.zero_grad()\n",
    "        loss.backward()\n",
    "        optimizer.step()\n",
    "\n",
    "        epoch_loss += loss.item()\n",
    "    print(f'Epoch {epoch+1}/{num_epochs}, Loss: {epoch_loss/len(train_dataloader)}')\n"
   ]
  },
  {
   "cell_type": "code",
   "execution_count": 21,
   "metadata": {},
   "outputs": [
    {
     "name": "stdout",
     "output_type": "stream",
     "text": [
      "Training Accuracy: 0.68\n"
     ]
    }
   ],
   "source": [
    "model.eval()  # set the model to evaluation mode\n",
    "total_correct = 0\n",
    "total_samples = 0\n",
    "\n",
    "with torch.no_grad():\n",
    "    for batch in train_dataloader:\n",
    "        minutes, label = batch['Text'][0], batch['Diff'][0].item()\n",
    "\n",
    "        # Forward pass\n",
    "        output = model(minutes)\n",
    "        target = torch.tensor([label], dtype=torch.long)\n",
    "\n",
    "        # Get predictions\n",
    "        _, predictions = torch.max(output, dim=1)\n",
    "\n",
    "        # Update totals\n",
    "        total_correct += (predictions == target).sum().item()\n",
    "        total_samples += target.size(0)\n",
    "\n",
    "accuracy = total_correct / total_samples\n",
    "print(f'Training Accuracy: {accuracy:.2f}')\n"
   ]
  },
  {
   "cell_type": "code",
   "execution_count": 22,
   "metadata": {},
   "outputs": [
    {
     "name": "stdout",
     "output_type": "stream",
     "text": [
      "Training Accuracy: 0.69\n"
     ]
    }
   ],
   "source": [
    "model.eval()  # set the model to evaluation mode\n",
    "total_correct = 0\n",
    "total_samples = 0\n",
    "\n",
    "with torch.no_grad():\n",
    "    for batch in test_dataloader:\n",
    "        minutes, label = batch['Text'][0], batch['Diff'][0].item()\n",
    "\n",
    "        # Forward pass\n",
    "        output = model(minutes)\n",
    "        target = torch.tensor([label], dtype=torch.long)\n",
    "\n",
    "        # Get predictions\n",
    "        _, predictions = torch.max(output, dim=1)\n",
    "\n",
    "        # Update totals\n",
    "        total_correct += (predictions == target).sum().item()\n",
    "        total_samples += target.size(0)\n",
    "\n",
    "accuracy = total_correct / total_samples\n",
    "print(f'Test Accuracy: {accuracy:.2f}')"
   ]
  },
  {
   "attachments": {},
   "cell_type": "markdown",
   "metadata": {},
   "source": [
    "Roberta"
   ]
  },
  {
   "cell_type": "code",
   "execution_count": 23,
   "metadata": {},
   "outputs": [],
   "source": [
    "from transformers import RobertaTokenizer, RobertaModel"
   ]
  },
  {
   "cell_type": "code",
   "execution_count": 27,
   "metadata": {},
   "outputs": [],
   "source": [
    "class FedRatePredictorROBERTA(nn.Module):\n",
    "    def __init__(self, num_classes=3, pretrained_model_name='roberta-base'):\n",
    "        super(FedRatePredictorROBERTA, self).__init__()\n",
    "        self.tokenizer = RobertaTokenizer.from_pretrained(pretrained_model_name)\n",
    "        self.encoder = RobertaModel.from_pretrained(pretrained_model_name)\n",
    "        self.fc = nn.Linear(self.encoder.config.hidden_size, num_classes)\n",
    "\n",
    "    def forward(self, input_text):\n",
    "        tokens = self.tokenizer(input_text, padding=True, truncation=True, return_tensors='pt', max_length=512)\n",
    "        embeddings = self.encoder(**tokens).last_hidden_state\n",
    "        pooled_output = embeddings[:, 0, :]\n",
    "        output = self.fc(pooled_output)\n",
    "        return output"
   ]
  },
  {
   "cell_type": "code",
   "execution_count": 28,
   "metadata": {},
   "outputs": [
    {
     "data": {
      "application/vnd.jupyter.widget-view+json": {
       "model_id": "9b35e90496ba47859ed26ee0090dc205",
       "version_major": 2,
       "version_minor": 0
      },
      "text/plain": [
       "Downloading (…)olve/main/vocab.json:   0%|          | 0.00/899k [00:00<?, ?B/s]"
      ]
     },
     "metadata": {},
     "output_type": "display_data"
    },
    {
     "data": {
      "application/vnd.jupyter.widget-view+json": {
       "model_id": "47eac23598e748ce8626d6122d7706a3",
       "version_major": 2,
       "version_minor": 0
      },
      "text/plain": [
       "Downloading pytorch_model.bin:   0%|          | 0.00/501M [00:00<?, ?B/s]"
      ]
     },
     "metadata": {},
     "output_type": "display_data"
    },
    {
     "name": "stderr",
     "output_type": "stream",
     "text": [
      "Some weights of the model checkpoint at roberta-base were not used when initializing RobertaModel: ['lm_head.bias', 'lm_head.dense.weight', 'lm_head.layer_norm.bias', 'lm_head.dense.bias', 'lm_head.layer_norm.weight', 'lm_head.decoder.weight']\n",
      "- This IS expected if you are initializing RobertaModel from the checkpoint of a model trained on another task or with another architecture (e.g. initializing a BertForSequenceClassification model from a BertForPreTraining model).\n",
      "- This IS NOT expected if you are initializing RobertaModel from the checkpoint of a model that you expect to be exactly identical (initializing a BertForSequenceClassification model from a BertForSequenceClassification model).\n"
     ]
    },
    {
     "name": "stdout",
     "output_type": "stream",
     "text": [
      "Epoch 1/5, Loss: 1.1096748577781455\n",
      "Epoch 2/5, Loss: 0.8899901729697982\n",
      "Epoch 3/5, Loss: 0.8802334690311303\n",
      "Epoch 4/5, Loss: 0.8634929419495165\n",
      "Epoch 5/5, Loss: 0.8855544488178566\n"
     ]
    }
   ],
   "source": [
    "model = FedRatePredictorROBERTA(num_classes=3)\n",
    "criterion = nn.CrossEntropyLoss()\n",
    "optimizer = optim.Adam(model.parameters(), lr=0.001)\n",
    "\n",
    "\n",
    "num_epochs = 5\n",
    "for epoch in range(num_epochs):\n",
    "    epoch_loss = 0\n",
    "    for batch in train_dataloader:\n",
    "        minutes, label = batch['Text'][0], batch['Diff'][0].item()\n",
    "\n",
    "        # Forward pass\n",
    "        output = model(minutes)\n",
    "        target = torch.tensor([label], dtype=torch.long)\n",
    "        loss = criterion(output, target)\n",
    "\n",
    "        # Backward pass\n",
    "        optimizer.zero_grad()\n",
    "        loss.backward()\n",
    "        optimizer.step()\n",
    "\n",
    "        epoch_loss += loss.item()\n",
    "    print(f'Epoch {epoch+1}/{num_epochs}, Loss: {epoch_loss/len(train_dataloader)}')"
   ]
  },
  {
   "cell_type": "code",
   "execution_count": 29,
   "metadata": {},
   "outputs": [
    {
     "name": "stdout",
     "output_type": "stream",
     "text": [
      "Training Accuracy:  0.6822916666666666\n"
     ]
    }
   ],
   "source": [
    "\n",
    "# Get accuracy on training data\n",
    "model.eval()\n",
    "with torch.no_grad():\n",
    "    correct_predictions = 0\n",
    "    for batch in train_dataloader:\n",
    "        minutes, label = batch['Text'][0], batch['Diff'][0].item()\n",
    "\n",
    "        output = model(minutes)\n",
    "        target = torch.tensor([label], dtype=torch.long)\n",
    "\n",
    "        _, predicted_label = torch.max(output, dim=1)\n",
    "        correct_predictions += (predicted_label == target).sum().item()\n",
    "\n",
    "    accuracy = correct_predictions / len(train_dataset)\n",
    "\n",
    "print('Training Accuracy: ', accuracy)"
   ]
  },
  {
   "cell_type": "code",
   "execution_count": 33,
   "metadata": {},
   "outputs": [
    {
     "name": "stdout",
     "output_type": "stream",
     "text": [
      "Test Accuracy:  0.6875\n"
     ]
    }
   ],
   "source": [
    "# Evaluation mode\n",
    "model.eval()\n",
    "\n",
    "# Initialize a variable to store the number of correct predictions\n",
    "correct_predictions = 0\n",
    "\n",
    "# No gradient calculation in this block\n",
    "with torch.no_grad():\n",
    "    for batch in test_dataloader:\n",
    "        minutes, label = batch['Text'][0], batch['Diff'][0].item()\n",
    "\n",
    "        # Get the model's output\n",
    "        output = model(minutes)\n",
    "        target = torch.tensor([label], dtype=torch.long)\n",
    "\n",
    "        # Get the predicted label\n",
    "        _, predicted_label = torch.max(output, dim=1)\n",
    "\n",
    "        # Check if the prediction is correct and update the correct_predictions counter\n",
    "        correct_predictions += (predicted_label == target).sum().item()\n",
    "\n",
    "# Calculate the accuracy\n",
    "accuracy = correct_predictions / len(test_dataset)\n",
    "\n",
    "print('Test Accuracy: ', accuracy)\n"
   ]
  },
  {
   "attachments": {},
   "cell_type": "markdown",
   "metadata": {},
   "source": [
    "## FinBERT + adding dense layers with ReLU + dropout"
   ]
  },
  {
   "cell_type": "code",
   "execution_count": 37,
   "metadata": {},
   "outputs": [],
   "source": [
    "from transformers import AutoTokenizer, AutoModel, AdamW\n",
    "from torch.optim.lr_scheduler import StepLR\n",
    "import torch.nn.functional as F\n",
    "\n",
    "# Create a new class for the model\n",
    "class FinRatePredictorFINBERT(nn.Module):\n",
    "    def __init__(self, num_classes=3, pretrained_model_name='ProsusAI/finbert'):\n",
    "        super(FinRatePredictorFINBERT, self).__init__()\n",
    "        self.tokenizer = AutoTokenizer.from_pretrained(pretrained_model_name)\n",
    "        self.encoder = AutoModel.from_pretrained(pretrained_model_name)\n",
    "        self.dropout = nn.Dropout(0.5)\n",
    "        self.fc1 = nn.Linear(self.encoder.config.hidden_size, 128)\n",
    "        self.fc2 = nn.Linear(128, num_classes)\n",
    "\n",
    "    def forward(self, input_text):\n",
    "        inputs = self.tokenizer(' '.join(input_text), padding=True, truncation=True, return_tensors='pt')\n",
    "        embeddings = self.encoder(**inputs).last_hidden_state\n",
    "        pooled_output = embeddings[:, 0, :]\n",
    "        x = self.fc1(pooled_output)\n",
    "        x = F.relu(x)\n",
    "        x = self.dropout(x)\n",
    "        output = self.fc2(x)\n",
    "        return output\n"
   ]
  },
  {
   "cell_type": "code",
   "execution_count": 42,
   "metadata": {},
   "outputs": [],
   "source": [
    "# Calculate accuracy (a classification metric)\n",
    "def accuracy_fn(y_true, y_pred):\n",
    "    correct = torch.eq(y_true, y_pred).sum().item() # torch.eq() calculates where two tensors are equal\n",
    "    acc = (correct / len(y_pred)) * 100 \n",
    "    return acc"
   ]
  },
  {
   "cell_type": "code",
   "execution_count": 38,
   "metadata": {},
   "outputs": [
    {
     "data": {
      "application/vnd.jupyter.widget-view+json": {
       "model_id": "f2cb7a79b42c4b3ca5fd3e313a0901d2",
       "version_major": 2,
       "version_minor": 0
      },
      "text/plain": [
       "Downloading (…)okenizer_config.json:   0%|          | 0.00/252 [00:00<?, ?B/s]"
      ]
     },
     "metadata": {},
     "output_type": "display_data"
    },
    {
     "data": {
      "application/vnd.jupyter.widget-view+json": {
       "model_id": "01e9e248d6c24bacb35c218180d34089",
       "version_major": 2,
       "version_minor": 0
      },
      "text/plain": [
       "Downloading (…)lve/main/config.json:   0%|          | 0.00/758 [00:00<?, ?B/s]"
      ]
     },
     "metadata": {},
     "output_type": "display_data"
    },
    {
     "data": {
      "application/vnd.jupyter.widget-view+json": {
       "model_id": "463d98b1b0534d5fae6984d493194ad5",
       "version_major": 2,
       "version_minor": 0
      },
      "text/plain": [
       "Downloading (…)solve/main/vocab.txt:   0%|          | 0.00/232k [00:00<?, ?B/s]"
      ]
     },
     "metadata": {},
     "output_type": "display_data"
    },
    {
     "data": {
      "application/vnd.jupyter.widget-view+json": {
       "model_id": "d6ee915c92804b7294005e3cf5d76c60",
       "version_major": 2,
       "version_minor": 0
      },
      "text/plain": [
       "Downloading (…)cial_tokens_map.json:   0%|          | 0.00/112 [00:00<?, ?B/s]"
      ]
     },
     "metadata": {},
     "output_type": "display_data"
    },
    {
     "data": {
      "application/vnd.jupyter.widget-view+json": {
       "model_id": "99a6fd5ebbe14f8b8dade832a6b336f3",
       "version_major": 2,
       "version_minor": 0
      },
      "text/plain": [
       "Downloading pytorch_model.bin:   0%|          | 0.00/438M [00:00<?, ?B/s]"
      ]
     },
     "metadata": {},
     "output_type": "display_data"
    },
    {
     "name": "stderr",
     "output_type": "stream",
     "text": [
      "Some weights of the model checkpoint at ProsusAI/finbert were not used when initializing BertModel: ['classifier.weight', 'classifier.bias']\n",
      "- This IS expected if you are initializing BertModel from the checkpoint of a model trained on another task or with another architecture (e.g. initializing a BertForSequenceClassification model from a BertForPreTraining model).\n",
      "- This IS NOT expected if you are initializing BertModel from the checkpoint of a model that you expect to be exactly identical (initializing a BertForSequenceClassification model from a BertForSequenceClassification model).\n",
      "/opt/homebrew/lib/python3.10/site-packages/transformers/optimization.py:391: FutureWarning: This implementation of AdamW is deprecated and will be removed in a future version. Use the PyTorch implementation torch.optim.AdamW instead, or set `no_deprecation_warning=True` to disable this warning\n",
      "  warnings.warn(\n"
     ]
    },
    {
     "name": "stdout",
     "output_type": "stream",
     "text": [
      "Epoch 1/5, Loss: 0.9558581778546795\n",
      "Epoch 2/5, Loss: 0.8726615972506503\n",
      "Epoch 3/5, Loss: 0.9159736119521161\n",
      "Epoch 4/5, Loss: 0.9227104634822657\n",
      "Epoch 5/5, Loss: 0.8853018715356787\n"
     ]
    }
   ],
   "source": [
    "\n",
    "# Instantiate the model\n",
    "model = FinRatePredictorFINBERT()\n",
    "\n",
    "# Set the optimizer and the learning rate scheduler\n",
    "optimizer = AdamW(model.parameters(), lr=0.001)\n",
    "scheduler = StepLR(optimizer, step_size=1, gamma=0.9)\n",
    "\n",
    "# Training loop\n",
    "num_epochs = 5\n",
    "for epoch in range(num_epochs):\n",
    "    epoch_loss = 0\n",
    "    model.train()\n",
    "    for batch in train_dataloader:\n",
    "        minutes, label = batch['Text'][0], batch['Diff'][0].item()\n",
    "\n",
    "        # Forward pass\n",
    "        output = model(minutes)\n",
    "        target = torch.tensor([label], dtype=torch.long)\n",
    "        loss = criterion(output, target)\n",
    "\n",
    "        # Backward pass and optimize\n",
    "        optimizer.zero_grad()\n",
    "        loss.backward()\n",
    "        optimizer.step()\n",
    "\n",
    "        # Update learning rate\n",
    "        scheduler.step()\n",
    "\n",
    "        epoch_loss += loss.item()\n",
    "    print(f'Epoch {epoch+1}/{num_epochs}, Loss: {epoch_loss/len(train_dataloader)}')\n"
   ]
  },
  {
   "cell_type": "code",
   "execution_count": 40,
   "metadata": {},
   "outputs": [
    {
     "name": "stdout",
     "output_type": "stream",
     "text": [
      "Training Accuracy:  0.6822916666666666\n"
     ]
    }
   ],
   "source": [
    "# Get accuracy on training data\n",
    "model.eval()\n",
    "with torch.no_grad():\n",
    "    correct_predictions = 0\n",
    "    for batch in train_dataloader:\n",
    "        minutes, label = batch['Text'][0], batch['Diff'][0].item()\n",
    "\n",
    "        output = model(minutes)\n",
    "        target = torch.tensor([label], dtype=torch.long)\n",
    "\n",
    "        _, predicted_label = torch.max(output, dim=1)\n",
    "        correct_predictions += (predicted_label == target).sum().item()\n",
    "\n",
    "    accuracy = correct_predictions / len(train_dataset)\n",
    "\n",
    "print('Training Accuracy: ', accuracy)"
   ]
  },
  {
   "cell_type": "code",
   "execution_count": 46,
   "metadata": {},
   "outputs": [
    {
     "name": "stdout",
     "output_type": "stream",
     "text": [
      "Training Accuracy:  0.6875\n"
     ]
    }
   ],
   "source": [
    "# Get accuracy on training data\n",
    "model.eval()\n",
    "with torch.no_grad():\n",
    "    correct_predictions = 0\n",
    "    for batch in test_dataloader:\n",
    "        minutes, label = batch['Text'][0], batch['Diff'][0].item()\n",
    "\n",
    "        output = model(minutes)\n",
    "        target = torch.tensor([label], dtype=torch.long)\n",
    "\n",
    "        _, predicted_label = torch.max(output, dim=1)\n",
    "        correct_predictions += (predicted_label == target).sum().item()\n",
    "\n",
    "    accuracy = correct_predictions / len(test_dataset)\n",
    "\n",
    "print('Training Accuracy: ', accuracy)"
   ]
  },
  {
   "cell_type": "code",
   "execution_count": null,
   "metadata": {},
   "outputs": [],
   "source": []
  },
  {
   "cell_type": "code",
   "execution_count": 44,
   "metadata": {},
   "outputs": [
    {
     "name": "stdout",
     "output_type": "stream",
     "text": [
      "Accuracy: 1.0000\n",
      "Precision: 1.0000\n",
      "Recall: 1.0000\n",
      "F1-score: 1.0000\n",
      "Confusion matrix:\n",
      "[[1]]\n"
     ]
    }
   ],
   "source": [
    "from sklearn.metrics import accuracy_score, precision_score, recall_score, f1_score, confusion_matrix\n",
    "\n",
    "def report_metrics(y_true, y_pred):\n",
    "    acc = accuracy_score(y_true, y_pred)\n",
    "    prec = precision_score(y_true, y_pred, average='weighted')\n",
    "    rec = recall_score(y_true, y_pred, average='weighted')\n",
    "    f1 = f1_score(y_true, y_pred, average='weighted')\n",
    "    cm = confusion_matrix(y_true, y_pred)\n",
    "    print(f\"Accuracy: {acc:.4f}\")\n",
    "    print(f\"Precision: {prec:.4f}\")\n",
    "    print(f\"Recall: {rec:.4f}\")\n",
    "    print(f\"F1-score: {f1:.4f}\")\n",
    "    print(f\"Confusion matrix:\\n{cm}\")\n",
    "    \n",
    "    \n",
    "report_metrics(target, predicted_label)"
   ]
  },
  {
   "cell_type": "code",
   "execution_count": 45,
   "metadata": {},
   "outputs": [
    {
     "data": {
      "text/plain": [
       "tensor([2])"
      ]
     },
     "execution_count": 45,
     "metadata": {},
     "output_type": "execute_result"
    }
   ],
   "source": [
    "predicted_label"
   ]
  },
  {
   "cell_type": "code",
   "execution_count": null,
   "metadata": {},
   "outputs": [],
   "source": []
  }
 ],
 "metadata": {
  "kernelspec": {
   "display_name": "Python 3",
   "language": "python",
   "name": "python3"
  },
  "language_info": {
   "codemirror_mode": {
    "name": "ipython",
    "version": 3
   },
   "file_extension": ".py",
   "mimetype": "text/x-python",
   "name": "python",
   "nbconvert_exporter": "python",
   "pygments_lexer": "ipython3",
   "version": "3.10.10"
  },
  "orig_nbformat": 4
 },
 "nbformat": 4,
 "nbformat_minor": 2
}
