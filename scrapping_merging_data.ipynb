{
 "cells": [
  {
   "attachments": {},
   "cell_type": "markdown",
   "metadata": {},
   "source": [
    "# STA395 - Machine Learning \n",
    "## Data Scraping and Preprocessing"
   ]
  },
  {
   "attachments": {},
   "cell_type": "markdown",
   "metadata": {},
   "source": [
    "#### Import necessary libraries"
   ]
  },
  {
   "cell_type": "code",
   "execution_count": 18,
   "metadata": {},
   "outputs": [],
   "source": [
    "import numpy as np\n",
    "import pandas as pd\n",
    "from FedTools import FederalReserveMins\n",
    "import requests\n",
    "import matplotlib.pyplot as plt"
   ]
  },
  {
   "attachments": {},
   "cell_type": "markdown",
   "metadata": {},
   "source": [
    "#### Get Federal Reserve Minutes using FedTools"
   ]
  },
  {
   "cell_type": "code",
   "execution_count": 19,
   "metadata": {},
   "outputs": [
    {
     "name": "stdout",
     "output_type": "stream",
     "text": [
      "Constructing links between 1993 and 2023\n"
     ]
    },
    {
     "ename": "KeyboardInterrupt",
     "evalue": "",
     "output_type": "error",
     "traceback": [
      "\u001b[0;31m---------------------------------------------------------------------------\u001b[0m",
      "\u001b[0;31mKeyboardInterrupt\u001b[0m                         Traceback (most recent call last)",
      "Cell \u001b[0;32mIn[19], line 9\u001b[0m\n\u001b[1;32m      1\u001b[0m fed_mins \u001b[39m=\u001b[39m FederalReserveMins(\n\u001b[1;32m      2\u001b[0m             main_url \u001b[39m=\u001b[39m \u001b[39m'\u001b[39m\u001b[39mhttps://www.federalreserve.gov\u001b[39m\u001b[39m'\u001b[39m, \n\u001b[1;32m      3\u001b[0m             calendar_url \u001b[39m=\u001b[39m\u001b[39m'\u001b[39m\u001b[39mhttps://www.federalreserve.gov/monetarypolicy/fomccalendars.htm\u001b[39m\u001b[39m'\u001b[39m,\n\u001b[0;32m   (...)\u001b[0m\n\u001b[1;32m      6\u001b[0m             verbose \u001b[39m=\u001b[39m \u001b[39mTrue\u001b[39;00m,\n\u001b[1;32m      7\u001b[0m             thread_num \u001b[39m=\u001b[39m \u001b[39m1\u001b[39m)\n\u001b[0;32m----> 9\u001b[0m data \u001b[39m=\u001b[39m fed_mins\u001b[39m.\u001b[39;49mfind_minutes()\n\u001b[1;32m     10\u001b[0m data \u001b[39m=\u001b[39m data\u001b[39m.\u001b[39mreset_index()\n",
      "File \u001b[0;32m/opt/homebrew/lib/python3.10/site-packages/FedTools/FedMins.py:209\u001b[0m, in \u001b[0;36mFederalReserveMins.find_minutes\u001b[0;34m(self)\u001b[0m\n\u001b[1;32m    201\u001b[0m \u001b[39mdef\u001b[39;00m \u001b[39mfind_minutes\u001b[39m(\u001b[39mself\u001b[39m) \u001b[39m-\u001b[39m\u001b[39m>\u001b[39m pd\u001b[39m.\u001b[39mDataFrame:\n\u001b[1;32m    202\u001b[0m     \u001b[39m\"\"\"\u001b[39;00m\n\u001b[1;32m    203\u001b[0m \u001b[39m    This function acts as the main public function of the class, returning the FOMC Minutes\u001b[39;00m\n\u001b[1;32m    204\u001b[0m \u001b[39m    by efficiently extracting the Minutes from the FOMC Website. The function then places each\u001b[39;00m\n\u001b[0;32m   (...)\u001b[0m\n\u001b[1;32m    207\u001b[0m \u001b[39m    :return: dataset: a Pandas DataFrame containing the meeting minutes, indexed by meeting date. (pd.DataFrame)\u001b[39;00m\n\u001b[1;32m    208\u001b[0m \u001b[39m    \"\"\"\u001b[39;00m\n\u001b[0;32m--> 209\u001b[0m     \u001b[39mself\u001b[39;49m\u001b[39m.\u001b[39;49m_obtain_links(\u001b[39mself\u001b[39;49m\u001b[39m.\u001b[39;49mstart_year)\n\u001b[1;32m    210\u001b[0m     \u001b[39mif\u001b[39;00m \u001b[39mself\u001b[39m\u001b[39m.\u001b[39mverbose:\n\u001b[1;32m    211\u001b[0m         \u001b[39mprint\u001b[39m(\u001b[39m\"\u001b[39m\u001b[39mExtracting Federal Reserve Minutes.\u001b[39m\u001b[39m\"\u001b[39m)\n",
      "File \u001b[0;32m/opt/homebrew/lib/python3.10/site-packages/FedTools/FedMins.py:91\u001b[0m, in \u001b[0;36mFederalReserveMins._obtain_links\u001b[0;34m(self, start_year)\u001b[0m\n\u001b[1;32m     89\u001b[0m \u001b[39mfor\u001b[39;00m year \u001b[39min\u001b[39;00m \u001b[39mrange\u001b[39m(start_year, \u001b[39mself\u001b[39m\u001b[39m.\u001b[39mHISTORICAL_SPLIT \u001b[39m+\u001b[39m \u001b[39m1\u001b[39m):\n\u001b[1;32m     90\u001b[0m     fed_mins_annual_url \u001b[39m=\u001b[39m \u001b[39mself\u001b[39m\u001b[39m.\u001b[39mmain_url \u001b[39m+\u001b[39m \u001b[39m'\u001b[39m\u001b[39m/monetarypolicy/fomchistorical\u001b[39m\u001b[39m'\u001b[39m \u001b[39m+\u001b[39m \u001b[39mstr\u001b[39m(year) \u001b[39m+\u001b[39m \u001b[39m'\u001b[39m\u001b[39m.htm\u001b[39m\u001b[39m'\u001b[39m\n\u001b[0;32m---> 91\u001b[0m     fed_mins_annual_socket \u001b[39m=\u001b[39m \u001b[39mself\u001b[39;49m\u001b[39m.\u001b[39;49m_urlopen_with_ua(fed_mins_annual_url)\n\u001b[1;32m     92\u001b[0m     fed_mins_annual_soup \u001b[39m=\u001b[39m BeautifulSoup(fed_mins_annual_socket, \u001b[39m'\u001b[39m\u001b[39mhtml.parser\u001b[39m\u001b[39m'\u001b[39m)\n\u001b[1;32m     93\u001b[0m     historical_mins \u001b[39m=\u001b[39m fed_mins_annual_soup\u001b[39m.\u001b[39mfindAll(\u001b[39m'\u001b[39m\u001b[39ma\u001b[39m\u001b[39m'\u001b[39m, text\u001b[39m=\u001b[39m\u001b[39m'\u001b[39m\u001b[39mHTML\u001b[39m\u001b[39m'\u001b[39m)\n",
      "File \u001b[0;32m/opt/homebrew/lib/python3.10/site-packages/FedTools/FedMins.py:121\u001b[0m, in \u001b[0;36mFederalReserveMins._urlopen_with_ua\u001b[0;34m(url)\u001b[0m\n\u001b[1;32m    119\u001b[0m req \u001b[39m=\u001b[39m Request(url)\n\u001b[1;32m    120\u001b[0m req\u001b[39m.\u001b[39madd_header(\u001b[39m\"\u001b[39m\u001b[39muser-agent\u001b[39m\u001b[39m\"\u001b[39m, ua\u001b[39m.\u001b[39mchrome)\n\u001b[0;32m--> 121\u001b[0m \u001b[39mreturn\u001b[39;00m urlopen(req)\n",
      "File \u001b[0;32m/opt/homebrew/Cellar/python@3.10/3.10.10_1/Frameworks/Python.framework/Versions/3.10/lib/python3.10/urllib/request.py:216\u001b[0m, in \u001b[0;36murlopen\u001b[0;34m(url, data, timeout, cafile, capath, cadefault, context)\u001b[0m\n\u001b[1;32m    214\u001b[0m \u001b[39melse\u001b[39;00m:\n\u001b[1;32m    215\u001b[0m     opener \u001b[39m=\u001b[39m _opener\n\u001b[0;32m--> 216\u001b[0m \u001b[39mreturn\u001b[39;00m opener\u001b[39m.\u001b[39;49mopen(url, data, timeout)\n",
      "File \u001b[0;32m/opt/homebrew/Cellar/python@3.10/3.10.10_1/Frameworks/Python.framework/Versions/3.10/lib/python3.10/urllib/request.py:519\u001b[0m, in \u001b[0;36mOpenerDirector.open\u001b[0;34m(self, fullurl, data, timeout)\u001b[0m\n\u001b[1;32m    516\u001b[0m     req \u001b[39m=\u001b[39m meth(req)\n\u001b[1;32m    518\u001b[0m sys\u001b[39m.\u001b[39maudit(\u001b[39m'\u001b[39m\u001b[39murllib.Request\u001b[39m\u001b[39m'\u001b[39m, req\u001b[39m.\u001b[39mfull_url, req\u001b[39m.\u001b[39mdata, req\u001b[39m.\u001b[39mheaders, req\u001b[39m.\u001b[39mget_method())\n\u001b[0;32m--> 519\u001b[0m response \u001b[39m=\u001b[39m \u001b[39mself\u001b[39;49m\u001b[39m.\u001b[39;49m_open(req, data)\n\u001b[1;32m    521\u001b[0m \u001b[39m# post-process response\u001b[39;00m\n\u001b[1;32m    522\u001b[0m meth_name \u001b[39m=\u001b[39m protocol\u001b[39m+\u001b[39m\u001b[39m\"\u001b[39m\u001b[39m_response\u001b[39m\u001b[39m\"\u001b[39m\n",
      "File \u001b[0;32m/opt/homebrew/Cellar/python@3.10/3.10.10_1/Frameworks/Python.framework/Versions/3.10/lib/python3.10/urllib/request.py:536\u001b[0m, in \u001b[0;36mOpenerDirector._open\u001b[0;34m(self, req, data)\u001b[0m\n\u001b[1;32m    533\u001b[0m     \u001b[39mreturn\u001b[39;00m result\n\u001b[1;32m    535\u001b[0m protocol \u001b[39m=\u001b[39m req\u001b[39m.\u001b[39mtype\n\u001b[0;32m--> 536\u001b[0m result \u001b[39m=\u001b[39m \u001b[39mself\u001b[39;49m\u001b[39m.\u001b[39;49m_call_chain(\u001b[39mself\u001b[39;49m\u001b[39m.\u001b[39;49mhandle_open, protocol, protocol \u001b[39m+\u001b[39;49m\n\u001b[1;32m    537\u001b[0m                           \u001b[39m'\u001b[39;49m\u001b[39m_open\u001b[39;49m\u001b[39m'\u001b[39;49m, req)\n\u001b[1;32m    538\u001b[0m \u001b[39mif\u001b[39;00m result:\n\u001b[1;32m    539\u001b[0m     \u001b[39mreturn\u001b[39;00m result\n",
      "File \u001b[0;32m/opt/homebrew/Cellar/python@3.10/3.10.10_1/Frameworks/Python.framework/Versions/3.10/lib/python3.10/urllib/request.py:496\u001b[0m, in \u001b[0;36mOpenerDirector._call_chain\u001b[0;34m(self, chain, kind, meth_name, *args)\u001b[0m\n\u001b[1;32m    494\u001b[0m \u001b[39mfor\u001b[39;00m handler \u001b[39min\u001b[39;00m handlers:\n\u001b[1;32m    495\u001b[0m     func \u001b[39m=\u001b[39m \u001b[39mgetattr\u001b[39m(handler, meth_name)\n\u001b[0;32m--> 496\u001b[0m     result \u001b[39m=\u001b[39m func(\u001b[39m*\u001b[39;49margs)\n\u001b[1;32m    497\u001b[0m     \u001b[39mif\u001b[39;00m result \u001b[39mis\u001b[39;00m \u001b[39mnot\u001b[39;00m \u001b[39mNone\u001b[39;00m:\n\u001b[1;32m    498\u001b[0m         \u001b[39mreturn\u001b[39;00m result\n",
      "File \u001b[0;32m/opt/homebrew/Cellar/python@3.10/3.10.10_1/Frameworks/Python.framework/Versions/3.10/lib/python3.10/urllib/request.py:1391\u001b[0m, in \u001b[0;36mHTTPSHandler.https_open\u001b[0;34m(self, req)\u001b[0m\n\u001b[1;32m   1390\u001b[0m \u001b[39mdef\u001b[39;00m \u001b[39mhttps_open\u001b[39m(\u001b[39mself\u001b[39m, req):\n\u001b[0;32m-> 1391\u001b[0m     \u001b[39mreturn\u001b[39;00m \u001b[39mself\u001b[39;49m\u001b[39m.\u001b[39;49mdo_open(http\u001b[39m.\u001b[39;49mclient\u001b[39m.\u001b[39;49mHTTPSConnection, req,\n\u001b[1;32m   1392\u001b[0m         context\u001b[39m=\u001b[39;49m\u001b[39mself\u001b[39;49m\u001b[39m.\u001b[39;49m_context, check_hostname\u001b[39m=\u001b[39;49m\u001b[39mself\u001b[39;49m\u001b[39m.\u001b[39;49m_check_hostname)\n",
      "File \u001b[0;32m/opt/homebrew/Cellar/python@3.10/3.10.10_1/Frameworks/Python.framework/Versions/3.10/lib/python3.10/urllib/request.py:1348\u001b[0m, in \u001b[0;36mAbstractHTTPHandler.do_open\u001b[0;34m(self, http_class, req, **http_conn_args)\u001b[0m\n\u001b[1;32m   1346\u001b[0m \u001b[39mtry\u001b[39;00m:\n\u001b[1;32m   1347\u001b[0m     \u001b[39mtry\u001b[39;00m:\n\u001b[0;32m-> 1348\u001b[0m         h\u001b[39m.\u001b[39;49mrequest(req\u001b[39m.\u001b[39;49mget_method(), req\u001b[39m.\u001b[39;49mselector, req\u001b[39m.\u001b[39;49mdata, headers,\n\u001b[1;32m   1349\u001b[0m                   encode_chunked\u001b[39m=\u001b[39;49mreq\u001b[39m.\u001b[39;49mhas_header(\u001b[39m'\u001b[39;49m\u001b[39mTransfer-encoding\u001b[39;49m\u001b[39m'\u001b[39;49m))\n\u001b[1;32m   1350\u001b[0m     \u001b[39mexcept\u001b[39;00m \u001b[39mOSError\u001b[39;00m \u001b[39mas\u001b[39;00m err: \u001b[39m# timeout error\u001b[39;00m\n\u001b[1;32m   1351\u001b[0m         \u001b[39mraise\u001b[39;00m URLError(err)\n",
      "File \u001b[0;32m/opt/homebrew/Cellar/python@3.10/3.10.10_1/Frameworks/Python.framework/Versions/3.10/lib/python3.10/http/client.py:1282\u001b[0m, in \u001b[0;36mHTTPConnection.request\u001b[0;34m(self, method, url, body, headers, encode_chunked)\u001b[0m\n\u001b[1;32m   1279\u001b[0m \u001b[39mdef\u001b[39;00m \u001b[39mrequest\u001b[39m(\u001b[39mself\u001b[39m, method, url, body\u001b[39m=\u001b[39m\u001b[39mNone\u001b[39;00m, headers\u001b[39m=\u001b[39m{}, \u001b[39m*\u001b[39m,\n\u001b[1;32m   1280\u001b[0m             encode_chunked\u001b[39m=\u001b[39m\u001b[39mFalse\u001b[39;00m):\n\u001b[1;32m   1281\u001b[0m     \u001b[39m\"\"\"Send a complete request to the server.\"\"\"\u001b[39;00m\n\u001b[0;32m-> 1282\u001b[0m     \u001b[39mself\u001b[39;49m\u001b[39m.\u001b[39;49m_send_request(method, url, body, headers, encode_chunked)\n",
      "File \u001b[0;32m/opt/homebrew/Cellar/python@3.10/3.10.10_1/Frameworks/Python.framework/Versions/3.10/lib/python3.10/http/client.py:1328\u001b[0m, in \u001b[0;36mHTTPConnection._send_request\u001b[0;34m(self, method, url, body, headers, encode_chunked)\u001b[0m\n\u001b[1;32m   1324\u001b[0m \u001b[39mif\u001b[39;00m \u001b[39misinstance\u001b[39m(body, \u001b[39mstr\u001b[39m):\n\u001b[1;32m   1325\u001b[0m     \u001b[39m# RFC 2616 Section 3.7.1 says that text default has a\u001b[39;00m\n\u001b[1;32m   1326\u001b[0m     \u001b[39m# default charset of iso-8859-1.\u001b[39;00m\n\u001b[1;32m   1327\u001b[0m     body \u001b[39m=\u001b[39m _encode(body, \u001b[39m'\u001b[39m\u001b[39mbody\u001b[39m\u001b[39m'\u001b[39m)\n\u001b[0;32m-> 1328\u001b[0m \u001b[39mself\u001b[39;49m\u001b[39m.\u001b[39;49mendheaders(body, encode_chunked\u001b[39m=\u001b[39;49mencode_chunked)\n",
      "File \u001b[0;32m/opt/homebrew/Cellar/python@3.10/3.10.10_1/Frameworks/Python.framework/Versions/3.10/lib/python3.10/http/client.py:1277\u001b[0m, in \u001b[0;36mHTTPConnection.endheaders\u001b[0;34m(self, message_body, encode_chunked)\u001b[0m\n\u001b[1;32m   1275\u001b[0m \u001b[39melse\u001b[39;00m:\n\u001b[1;32m   1276\u001b[0m     \u001b[39mraise\u001b[39;00m CannotSendHeader()\n\u001b[0;32m-> 1277\u001b[0m \u001b[39mself\u001b[39;49m\u001b[39m.\u001b[39;49m_send_output(message_body, encode_chunked\u001b[39m=\u001b[39;49mencode_chunked)\n",
      "File \u001b[0;32m/opt/homebrew/Cellar/python@3.10/3.10.10_1/Frameworks/Python.framework/Versions/3.10/lib/python3.10/http/client.py:1037\u001b[0m, in \u001b[0;36mHTTPConnection._send_output\u001b[0;34m(self, message_body, encode_chunked)\u001b[0m\n\u001b[1;32m   1035\u001b[0m msg \u001b[39m=\u001b[39m \u001b[39mb\u001b[39m\u001b[39m\"\u001b[39m\u001b[39m\\r\u001b[39;00m\u001b[39m\\n\u001b[39;00m\u001b[39m\"\u001b[39m\u001b[39m.\u001b[39mjoin(\u001b[39mself\u001b[39m\u001b[39m.\u001b[39m_buffer)\n\u001b[1;32m   1036\u001b[0m \u001b[39mdel\u001b[39;00m \u001b[39mself\u001b[39m\u001b[39m.\u001b[39m_buffer[:]\n\u001b[0;32m-> 1037\u001b[0m \u001b[39mself\u001b[39;49m\u001b[39m.\u001b[39;49msend(msg)\n\u001b[1;32m   1039\u001b[0m \u001b[39mif\u001b[39;00m message_body \u001b[39mis\u001b[39;00m \u001b[39mnot\u001b[39;00m \u001b[39mNone\u001b[39;00m:\n\u001b[1;32m   1040\u001b[0m \n\u001b[1;32m   1041\u001b[0m     \u001b[39m# create a consistent interface to message_body\u001b[39;00m\n\u001b[1;32m   1042\u001b[0m     \u001b[39mif\u001b[39;00m \u001b[39mhasattr\u001b[39m(message_body, \u001b[39m'\u001b[39m\u001b[39mread\u001b[39m\u001b[39m'\u001b[39m):\n\u001b[1;32m   1043\u001b[0m         \u001b[39m# Let file-like take precedence over byte-like.  This\u001b[39;00m\n\u001b[1;32m   1044\u001b[0m         \u001b[39m# is needed to allow the current position of mmap'ed\u001b[39;00m\n\u001b[1;32m   1045\u001b[0m         \u001b[39m# files to be taken into account.\u001b[39;00m\n",
      "File \u001b[0;32m/opt/homebrew/Cellar/python@3.10/3.10.10_1/Frameworks/Python.framework/Versions/3.10/lib/python3.10/http/client.py:975\u001b[0m, in \u001b[0;36mHTTPConnection.send\u001b[0;34m(self, data)\u001b[0m\n\u001b[1;32m    973\u001b[0m \u001b[39mif\u001b[39;00m \u001b[39mself\u001b[39m\u001b[39m.\u001b[39msock \u001b[39mis\u001b[39;00m \u001b[39mNone\u001b[39;00m:\n\u001b[1;32m    974\u001b[0m     \u001b[39mif\u001b[39;00m \u001b[39mself\u001b[39m\u001b[39m.\u001b[39mauto_open:\n\u001b[0;32m--> 975\u001b[0m         \u001b[39mself\u001b[39;49m\u001b[39m.\u001b[39;49mconnect()\n\u001b[1;32m    976\u001b[0m     \u001b[39melse\u001b[39;00m:\n\u001b[1;32m    977\u001b[0m         \u001b[39mraise\u001b[39;00m NotConnected()\n",
      "File \u001b[0;32m/opt/homebrew/Cellar/python@3.10/3.10.10_1/Frameworks/Python.framework/Versions/3.10/lib/python3.10/http/client.py:1447\u001b[0m, in \u001b[0;36mHTTPSConnection.connect\u001b[0;34m(self)\u001b[0m\n\u001b[1;32m   1444\u001b[0m \u001b[39mdef\u001b[39;00m \u001b[39mconnect\u001b[39m(\u001b[39mself\u001b[39m):\n\u001b[1;32m   1445\u001b[0m     \u001b[39m\"\u001b[39m\u001b[39mConnect to a host on a given (SSL) port.\u001b[39m\u001b[39m\"\u001b[39m\n\u001b[0;32m-> 1447\u001b[0m     \u001b[39msuper\u001b[39;49m()\u001b[39m.\u001b[39;49mconnect()\n\u001b[1;32m   1449\u001b[0m     \u001b[39mif\u001b[39;00m \u001b[39mself\u001b[39m\u001b[39m.\u001b[39m_tunnel_host:\n\u001b[1;32m   1450\u001b[0m         server_hostname \u001b[39m=\u001b[39m \u001b[39mself\u001b[39m\u001b[39m.\u001b[39m_tunnel_host\n",
      "File \u001b[0;32m/opt/homebrew/Cellar/python@3.10/3.10.10_1/Frameworks/Python.framework/Versions/3.10/lib/python3.10/http/client.py:941\u001b[0m, in \u001b[0;36mHTTPConnection.connect\u001b[0;34m(self)\u001b[0m\n\u001b[1;32m    939\u001b[0m \u001b[39m\"\"\"Connect to the host and port specified in __init__.\"\"\"\u001b[39;00m\n\u001b[1;32m    940\u001b[0m sys\u001b[39m.\u001b[39maudit(\u001b[39m\"\u001b[39m\u001b[39mhttp.client.connect\u001b[39m\u001b[39m\"\u001b[39m, \u001b[39mself\u001b[39m, \u001b[39mself\u001b[39m\u001b[39m.\u001b[39mhost, \u001b[39mself\u001b[39m\u001b[39m.\u001b[39mport)\n\u001b[0;32m--> 941\u001b[0m \u001b[39mself\u001b[39m\u001b[39m.\u001b[39msock \u001b[39m=\u001b[39m \u001b[39mself\u001b[39;49m\u001b[39m.\u001b[39;49m_create_connection(\n\u001b[1;32m    942\u001b[0m     (\u001b[39mself\u001b[39;49m\u001b[39m.\u001b[39;49mhost,\u001b[39mself\u001b[39;49m\u001b[39m.\u001b[39;49mport), \u001b[39mself\u001b[39;49m\u001b[39m.\u001b[39;49mtimeout, \u001b[39mself\u001b[39;49m\u001b[39m.\u001b[39;49msource_address)\n\u001b[1;32m    943\u001b[0m \u001b[39m# Might fail in OSs that don't implement TCP_NODELAY\u001b[39;00m\n\u001b[1;32m    944\u001b[0m \u001b[39mtry\u001b[39;00m:\n",
      "File \u001b[0;32m/opt/homebrew/Cellar/python@3.10/3.10.10_1/Frameworks/Python.framework/Versions/3.10/lib/python3.10/socket.py:833\u001b[0m, in \u001b[0;36mcreate_connection\u001b[0;34m(address, timeout, source_address)\u001b[0m\n\u001b[1;32m    831\u001b[0m \u001b[39mif\u001b[39;00m source_address:\n\u001b[1;32m    832\u001b[0m     sock\u001b[39m.\u001b[39mbind(source_address)\n\u001b[0;32m--> 833\u001b[0m sock\u001b[39m.\u001b[39;49mconnect(sa)\n\u001b[1;32m    834\u001b[0m \u001b[39m# Break explicitly a reference cycle\u001b[39;00m\n\u001b[1;32m    835\u001b[0m err \u001b[39m=\u001b[39m \u001b[39mNone\u001b[39;00m\n",
      "\u001b[0;31mKeyboardInterrupt\u001b[0m: "
     ]
    }
   ],
   "source": [
    "fed_mins = FederalReserveMins(\n",
    "            main_url = 'https://www.federalreserve.gov', \n",
    "            calendar_url ='https://www.federalreserve.gov/monetarypolicy/fomccalendars.htm',\n",
    "            start_year=1993,\n",
    "            historical_split = 2017,\n",
    "            verbose = True,\n",
    "            thread_num = 1)\n",
    "\n",
    "data = fed_mins.find_minutes()\n",
    "data = data.reset_index()"
   ]
  },
  {
   "attachments": {},
   "cell_type": "markdown",
   "metadata": {},
   "source": [
    "#### Define function to scrape federal funds rate data"
   ]
  },
  {
   "cell_type": "code",
   "execution_count": 3,
   "metadata": {},
   "outputs": [
    {
     "data": {
      "text/html": [
       "<div>\n",
       "<style scoped>\n",
       "    .dataframe tbody tr th:only-of-type {\n",
       "        vertical-align: middle;\n",
       "    }\n",
       "\n",
       "    .dataframe tbody tr th {\n",
       "        vertical-align: top;\n",
       "    }\n",
       "\n",
       "    .dataframe thead th {\n",
       "        text-align: right;\n",
       "    }\n",
       "</style>\n",
       "<table border=\"1\" class=\"dataframe\">\n",
       "  <thead>\n",
       "    <tr style=\"text-align: right;\">\n",
       "      <th></th>\n",
       "      <th>Date</th>\n",
       "      <th>Target Rate</th>\n",
       "      <th>Lower Limit</th>\n",
       "      <th>Upper Limit</th>\n",
       "      <th>Average Range</th>\n",
       "    </tr>\n",
       "  </thead>\n",
       "  <tbody>\n",
       "    <tr>\n",
       "      <th>0</th>\n",
       "      <td>1990-01-01</td>\n",
       "      <td>8.25</td>\n",
       "      <td>NA</td>\n",
       "      <td>NA</td>\n",
       "      <td>NA</td>\n",
       "    </tr>\n",
       "    <tr>\n",
       "      <th>1</th>\n",
       "      <td>1990-01-02</td>\n",
       "      <td>8.25</td>\n",
       "      <td>NA</td>\n",
       "      <td>NA</td>\n",
       "      <td>NA</td>\n",
       "    </tr>\n",
       "    <tr>\n",
       "      <th>2</th>\n",
       "      <td>1990-01-03</td>\n",
       "      <td>8.25</td>\n",
       "      <td>NA</td>\n",
       "      <td>NA</td>\n",
       "      <td>NA</td>\n",
       "    </tr>\n",
       "    <tr>\n",
       "      <th>3</th>\n",
       "      <td>1990-01-04</td>\n",
       "      <td>8.25</td>\n",
       "      <td>NA</td>\n",
       "      <td>NA</td>\n",
       "      <td>NA</td>\n",
       "    </tr>\n",
       "    <tr>\n",
       "      <th>4</th>\n",
       "      <td>1990-01-05</td>\n",
       "      <td>8.25</td>\n",
       "      <td>NA</td>\n",
       "      <td>NA</td>\n",
       "      <td>NA</td>\n",
       "    </tr>\n",
       "    <tr>\n",
       "      <th>...</th>\n",
       "      <td>...</td>\n",
       "      <td>...</td>\n",
       "      <td>...</td>\n",
       "      <td>...</td>\n",
       "      <td>...</td>\n",
       "    </tr>\n",
       "    <tr>\n",
       "      <th>12131</th>\n",
       "      <td>2023-03-21</td>\n",
       "      <td>NA</td>\n",
       "      <td>4.50</td>\n",
       "      <td>4.75</td>\n",
       "      <td>4.625</td>\n",
       "    </tr>\n",
       "    <tr>\n",
       "      <th>12132</th>\n",
       "      <td>2023-03-22</td>\n",
       "      <td>NA</td>\n",
       "      <td>4.50</td>\n",
       "      <td>4.75</td>\n",
       "      <td>4.625</td>\n",
       "    </tr>\n",
       "    <tr>\n",
       "      <th>12133</th>\n",
       "      <td>2023-03-23</td>\n",
       "      <td>NA</td>\n",
       "      <td>4.75</td>\n",
       "      <td>5.00</td>\n",
       "      <td>4.875</td>\n",
       "    </tr>\n",
       "    <tr>\n",
       "      <th>12134</th>\n",
       "      <td>2023-03-24</td>\n",
       "      <td>NA</td>\n",
       "      <td>4.75</td>\n",
       "      <td>5.00</td>\n",
       "      <td>4.875</td>\n",
       "    </tr>\n",
       "    <tr>\n",
       "      <th>12135</th>\n",
       "      <td>2023-03-25</td>\n",
       "      <td>NA</td>\n",
       "      <td>4.75</td>\n",
       "      <td>5.00</td>\n",
       "      <td>4.875</td>\n",
       "    </tr>\n",
       "  </tbody>\n",
       "</table>\n",
       "<p>12136 rows × 5 columns</p>\n",
       "</div>"
      ],
      "text/plain": [
       "             Date Target Rate Lower Limit Upper Limit Average Range\n",
       "0      1990-01-01        8.25          NA          NA            NA\n",
       "1      1990-01-02        8.25          NA          NA            NA\n",
       "2      1990-01-03        8.25          NA          NA            NA\n",
       "3      1990-01-04        8.25          NA          NA            NA\n",
       "4      1990-01-05        8.25          NA          NA            NA\n",
       "...           ...         ...         ...         ...           ...\n",
       "12131  2023-03-21          NA        4.50        4.75         4.625\n",
       "12132  2023-03-22          NA        4.50        4.75         4.625\n",
       "12133  2023-03-23          NA        4.75        5.00         4.875\n",
       "12134  2023-03-24          NA        4.75        5.00         4.875\n",
       "12135  2023-03-25          NA        4.75        5.00         4.875\n",
       "\n",
       "[12136 rows x 5 columns]"
      ]
     },
     "execution_count": 3,
     "metadata": {},
     "output_type": "execute_result"
    }
   ],
   "source": [
    "def scrape_federal_funds_rate(api_key, rate_start_date='1990-01-01', rate_end_date='2008-12-16', range_start_date='2008-12-17', range_end_date='2023-03-25'):\n",
    "    # Fetch target federal funds rate\n",
    "    url_target_rate = f\"https://api.stlouisfed.org/fred/series/observations?series_id=DFEDTAR&api_key={api_key}&file_type=json&observation_start={rate_start_date}&observation_end={rate_end_date}\"\n",
    "    response_target_rate = requests.get(url_target_rate)\n",
    "\n",
    "    # Fetch target range lower limit\n",
    "    url_lower_limit = f\"https://api.stlouisfed.org/fred/series/observations?series_id=DFEDTARL&api_key={api_key}&file_type=json&observation_start={range_start_date}&observation_end={range_end_date}\"\n",
    "    response_lower_limit = requests.get(url_lower_limit)\n",
    "\n",
    "    # Fetch target range upper limit\n",
    "    url_upper_limit = f\"https://api.stlouisfed.org/fred/series/observations?series_id=DFEDTARU&api_key={api_key}&file_type=json&observation_start={range_start_date}&observation_end={range_end_date}\"\n",
    "    response_upper_limit = requests.get(url_upper_limit)\n",
    "\n",
    "    if all(response.status_code == 200 for response in [response_target_rate, response_lower_limit, response_upper_limit]):\n",
    "        target_rate_data = response_target_rate.json()['observations']\n",
    "        lower_limit_data = response_lower_limit.json()['observations']\n",
    "        upper_limit_data = response_upper_limit.json()['observations']\n",
    "\n",
    "        date_rate_data = []\n",
    "\n",
    "        for target_rate in target_rate_data:\n",
    "            date = target_rate['date']\n",
    "            rate = target_rate['value'] if target_rate['value'] != '.' else 'NA'\n",
    "            date_rate_data.append((date, rate, 'NA', 'NA', 'NA'))\n",
    "\n",
    "        for lower_limit, upper_limit in zip(lower_limit_data, upper_limit_data):\n",
    "            date = lower_limit['date']\n",
    "            lower = lower_limit['value'] if lower_limit['value'] != '.' else 'NA'\n",
    "            upper = upper_limit['value'] if upper_limit['value'] != '.' else 'NA'\n",
    "            avg_range = (float(lower) + float(upper)) / 2 if lower != 'NA' and upper != 'NA' else 'NA'\n",
    "\n",
    "            date_rate_data.append((date, 'NA', lower, upper, avg_range))\n",
    "\n",
    "        # Convert data to a pandas DataFrame\n",
    "        df = pd.DataFrame(date_rate_data, columns=['Date', 'Target Rate', 'Lower Limit', 'Upper Limit', 'Average Range'])\n",
    "        return df\n",
    "    else:\n",
    "        print(f\"Error: Unable to fetch data. Status codes: {response_target_rate.status_code}, {response_lower_limit.status_code}, {response_upper_limit.status_code}\")\n",
    "        return None\n",
    "\n",
    "api_key = \"205481b5b63bdb476a6fd5ef5f57023c\"\n",
    "federal_funds_rate_data = scrape_federal_funds_rate(api_key)\n",
    "federal_funds_rate_data"
   ]
  },
  {
   "attachments": {},
   "cell_type": "markdown",
   "metadata": {},
   "source": [
    "#### Preprocess the fetched federal funds rate data"
   ]
  },
  {
   "cell_type": "code",
   "execution_count": 4,
   "metadata": {},
   "outputs": [],
   "source": [
    "federal_funds_rate_data[\"Date\"] = pd.to_datetime(federal_funds_rate_data[\"Date\"])\n",
    "cols = [\"Target Rate\", \"Lower Limit\", \"Upper Limit\", \"Average Range\"]\n",
    "lead_cols = [col + '_lead' for col in cols]\n",
    "federal_funds_rate_data[lead_cols] = federal_funds_rate_data[cols].apply(lambda x: x.shift(-1))"
   ]
  },
  {
   "attachments": {},
   "cell_type": "markdown",
   "metadata": {},
   "source": [
    "#### Merge data and drop unnecessary columns"
   ]
  },
  {
   "cell_type": "code",
   "execution_count": 5,
   "metadata": {},
   "outputs": [],
   "source": [
    "data_merged = data.merge(federal_funds_rate_data, left_on = 'index', right_on= 'Date')\n",
    "drops = [\"Date\", \"Target Rate\", \"Lower Limit\", \"Upper Limit\", \"Average Range\"]\n",
    "df = data_merged.drop(drops, axis= 1)\n"
   ]
  },
  {
   "attachments": {},
   "cell_type": "markdown",
   "metadata": {},
   "source": [
    "#### Rename columns"
   ]
  },
  {
   "cell_type": "code",
   "execution_count": 6,
   "metadata": {},
   "outputs": [],
   "source": [
    "new_names = {\"index\": \"date\",\n",
    "             \"Federal_Reserve_Mins\": \"minutes\",\n",
    "             \"Target Rate_lead\": \"tar_rate\",\n",
    "             \"Lower Limit_lead\": \"lower_limit_range\",\n",
    "             \"Upper Limit_lead\": \"upper_limit_range\",\n",
    "             \"Average Range_lead\": \"avg_range\"}\n",
    "\n",
    "df.rename(columns=new_names, inplace = True)"
   ]
  },
  {
   "attachments": {},
   "cell_type": "markdown",
   "metadata": {},
   "source": [
    "#### Define function to replace 'NA' strings with 0"
   ]
  },
  {
   "cell_type": "code",
   "execution_count": 7,
   "metadata": {},
   "outputs": [],
   "source": [
    "def replace_na_with_zero(df):\n",
    "    df = df.replace('NA', 0)\n",
    "    return df\n",
    "\n",
    "df = replace_na_with_zero(df)\n",
    "cols = [\"tar_rate\", \"lower_limit_range\", \"upper_limit_range\", \"avg_range\"]\n",
    "df[cols] = df[cols].apply(pd.to_numeric)"
   ]
  },
  {
   "attachments": {},
   "cell_type": "markdown",
   "metadata": {},
   "source": [
    "#### Calculate the new target rate and drop the old columns"
   ]
  },
  {
   "cell_type": "code",
   "execution_count": 8,
   "metadata": {},
   "outputs": [],
   "source": [
    "df[\"tar_rate_new\"] = df[\"tar_rate\"] + df[\"upper_limit_range\"]\n",
    "cols_new = [\"tar_rate\", \"lower_limit_range\", \"upper_limit_range\", \"avg_range\"]\n",
    "df = df.drop(cols_new, axis=1)"
   ]
  },
  {
   "cell_type": "code",
   "execution_count": 9,
   "metadata": {},
   "outputs": [
    {
     "data": {
      "text/html": [
       "<div>\n",
       "<style scoped>\n",
       "    .dataframe tbody tr th:only-of-type {\n",
       "        vertical-align: middle;\n",
       "    }\n",
       "\n",
       "    .dataframe tbody tr th {\n",
       "        vertical-align: top;\n",
       "    }\n",
       "\n",
       "    .dataframe thead th {\n",
       "        text-align: right;\n",
       "    }\n",
       "</style>\n",
       "<table border=\"1\" class=\"dataframe\">\n",
       "  <thead>\n",
       "    <tr style=\"text-align: right;\">\n",
       "      <th></th>\n",
       "      <th>date</th>\n",
       "      <th>minutes</th>\n",
       "      <th>tar_rate_new</th>\n",
       "    </tr>\n",
       "  </thead>\n",
       "  <tbody>\n",
       "    <tr>\n",
       "      <th>0</th>\n",
       "      <td>1993-02-03</td>\n",
       "      <td>A meeting of the Federal Open Market Committee...</td>\n",
       "      <td>3.00</td>\n",
       "    </tr>\n",
       "    <tr>\n",
       "      <th>1</th>\n",
       "      <td>1993-03-23</td>\n",
       "      <td>A meeting of the Federal Open Market Committee...</td>\n",
       "      <td>3.00</td>\n",
       "    </tr>\n",
       "    <tr>\n",
       "      <th>2</th>\n",
       "      <td>1993-05-18</td>\n",
       "      <td>A meeting of the Federal Open Market Committee...</td>\n",
       "      <td>3.00</td>\n",
       "    </tr>\n",
       "    <tr>\n",
       "      <th>3</th>\n",
       "      <td>1993-07-07</td>\n",
       "      <td>A meeting of the Federal Open Market Committee...</td>\n",
       "      <td>3.00</td>\n",
       "    </tr>\n",
       "    <tr>\n",
       "      <th>4</th>\n",
       "      <td>1993-08-17</td>\n",
       "      <td>A meeting of the Federal Open Market Committee...</td>\n",
       "      <td>3.00</td>\n",
       "    </tr>\n",
       "    <tr>\n",
       "      <th>...</th>\n",
       "      <td>...</td>\n",
       "      <td>...</td>\n",
       "      <td>...</td>\n",
       "    </tr>\n",
       "    <tr>\n",
       "      <th>235</th>\n",
       "      <td>2022-09-21</td>\n",
       "      <td>The Federal Reserve, the central bank of the U...</td>\n",
       "      <td>3.25</td>\n",
       "    </tr>\n",
       "    <tr>\n",
       "      <th>236</th>\n",
       "      <td>2022-11-02</td>\n",
       "      <td>The Federal Reserve, the central bank of the U...</td>\n",
       "      <td>4.00</td>\n",
       "    </tr>\n",
       "    <tr>\n",
       "      <th>237</th>\n",
       "      <td>2022-12-14</td>\n",
       "      <td>The Federal Reserve, the central bank of the U...</td>\n",
       "      <td>4.50</td>\n",
       "    </tr>\n",
       "    <tr>\n",
       "      <th>238</th>\n",
       "      <td>2023-02-01</td>\n",
       "      <td>The Federal Reserve, the central bank of the U...</td>\n",
       "      <td>4.75</td>\n",
       "    </tr>\n",
       "    <tr>\n",
       "      <th>239</th>\n",
       "      <td>2023-03-22</td>\n",
       "      <td>The Federal Reserve, the central bank of the U...</td>\n",
       "      <td>5.00</td>\n",
       "    </tr>\n",
       "  </tbody>\n",
       "</table>\n",
       "<p>240 rows × 3 columns</p>\n",
       "</div>"
      ],
      "text/plain": [
       "          date                                            minutes  \\\n",
       "0   1993-02-03  A meeting of the Federal Open Market Committee...   \n",
       "1   1993-03-23  A meeting of the Federal Open Market Committee...   \n",
       "2   1993-05-18  A meeting of the Federal Open Market Committee...   \n",
       "3   1993-07-07  A meeting of the Federal Open Market Committee...   \n",
       "4   1993-08-17  A meeting of the Federal Open Market Committee...   \n",
       "..         ...                                                ...   \n",
       "235 2022-09-21  The Federal Reserve, the central bank of the U...   \n",
       "236 2022-11-02  The Federal Reserve, the central bank of the U...   \n",
       "237 2022-12-14  The Federal Reserve, the central bank of the U...   \n",
       "238 2023-02-01  The Federal Reserve, the central bank of the U...   \n",
       "239 2023-03-22  The Federal Reserve, the central bank of the U...   \n",
       "\n",
       "     tar_rate_new  \n",
       "0            3.00  \n",
       "1            3.00  \n",
       "2            3.00  \n",
       "3            3.00  \n",
       "4            3.00  \n",
       "..            ...  \n",
       "235          3.25  \n",
       "236          4.00  \n",
       "237          4.50  \n",
       "238          4.75  \n",
       "239          5.00  \n",
       "\n",
       "[240 rows x 3 columns]"
      ]
     },
     "execution_count": 9,
     "metadata": {},
     "output_type": "execute_result"
    }
   ],
   "source": [
    "# # Check the range of the upper and lower limit\n",
    "# df[\"diff\"] = df[\"upper_limit_range\"] -  df[\"lower_limit_range\"]\n",
    "# df[\"diff\"].unique()\n",
    "df"
   ]
  },
  {
   "attachments": {},
   "cell_type": "markdown",
   "metadata": {},
   "source": [
    "Since 0.25 is the only range. We can just take the upper range as our target rate instead of the average value. We create a new column to reflect our target rate, by combining the original target rate pre-2008 and the upper range post-2008"
   ]
  },
  {
   "attachments": {},
   "cell_type": "markdown",
   "metadata": {},
   "source": [
    "#### Create prediction variable (next meeting target rate)"
   ]
  },
  {
   "cell_type": "code",
   "execution_count": 10,
   "metadata": {},
   "outputs": [
    {
     "data": {
      "text/html": [
       "<div>\n",
       "<style scoped>\n",
       "    .dataframe tbody tr th:only-of-type {\n",
       "        vertical-align: middle;\n",
       "    }\n",
       "\n",
       "    .dataframe tbody tr th {\n",
       "        vertical-align: top;\n",
       "    }\n",
       "\n",
       "    .dataframe thead th {\n",
       "        text-align: right;\n",
       "    }\n",
       "</style>\n",
       "<table border=\"1\" class=\"dataframe\">\n",
       "  <thead>\n",
       "    <tr style=\"text-align: right;\">\n",
       "      <th></th>\n",
       "      <th>date</th>\n",
       "      <th>minutes</th>\n",
       "      <th>tar_rate_new</th>\n",
       "      <th>next_tar_rate</th>\n",
       "    </tr>\n",
       "  </thead>\n",
       "  <tbody>\n",
       "    <tr>\n",
       "      <th>0</th>\n",
       "      <td>1993-02-03</td>\n",
       "      <td>A meeting of the Federal Open Market Committee...</td>\n",
       "      <td>3.00</td>\n",
       "      <td>3.00</td>\n",
       "    </tr>\n",
       "    <tr>\n",
       "      <th>1</th>\n",
       "      <td>1993-03-23</td>\n",
       "      <td>A meeting of the Federal Open Market Committee...</td>\n",
       "      <td>3.00</td>\n",
       "      <td>3.00</td>\n",
       "    </tr>\n",
       "    <tr>\n",
       "      <th>2</th>\n",
       "      <td>1993-05-18</td>\n",
       "      <td>A meeting of the Federal Open Market Committee...</td>\n",
       "      <td>3.00</td>\n",
       "      <td>3.00</td>\n",
       "    </tr>\n",
       "    <tr>\n",
       "      <th>3</th>\n",
       "      <td>1993-07-07</td>\n",
       "      <td>A meeting of the Federal Open Market Committee...</td>\n",
       "      <td>3.00</td>\n",
       "      <td>3.00</td>\n",
       "    </tr>\n",
       "    <tr>\n",
       "      <th>4</th>\n",
       "      <td>1993-08-17</td>\n",
       "      <td>A meeting of the Federal Open Market Committee...</td>\n",
       "      <td>3.00</td>\n",
       "      <td>3.00</td>\n",
       "    </tr>\n",
       "    <tr>\n",
       "      <th>...</th>\n",
       "      <td>...</td>\n",
       "      <td>...</td>\n",
       "      <td>...</td>\n",
       "      <td>...</td>\n",
       "    </tr>\n",
       "    <tr>\n",
       "      <th>235</th>\n",
       "      <td>2022-09-21</td>\n",
       "      <td>The Federal Reserve, the central bank of the U...</td>\n",
       "      <td>3.25</td>\n",
       "      <td>4.00</td>\n",
       "    </tr>\n",
       "    <tr>\n",
       "      <th>236</th>\n",
       "      <td>2022-11-02</td>\n",
       "      <td>The Federal Reserve, the central bank of the U...</td>\n",
       "      <td>4.00</td>\n",
       "      <td>4.50</td>\n",
       "    </tr>\n",
       "    <tr>\n",
       "      <th>237</th>\n",
       "      <td>2022-12-14</td>\n",
       "      <td>The Federal Reserve, the central bank of the U...</td>\n",
       "      <td>4.50</td>\n",
       "      <td>4.75</td>\n",
       "    </tr>\n",
       "    <tr>\n",
       "      <th>238</th>\n",
       "      <td>2023-02-01</td>\n",
       "      <td>The Federal Reserve, the central bank of the U...</td>\n",
       "      <td>4.75</td>\n",
       "      <td>5.00</td>\n",
       "    </tr>\n",
       "    <tr>\n",
       "      <th>239</th>\n",
       "      <td>2023-03-22</td>\n",
       "      <td>The Federal Reserve, the central bank of the U...</td>\n",
       "      <td>5.00</td>\n",
       "      <td>NaN</td>\n",
       "    </tr>\n",
       "  </tbody>\n",
       "</table>\n",
       "<p>240 rows × 4 columns</p>\n",
       "</div>"
      ],
      "text/plain": [
       "          date                                            minutes  \\\n",
       "0   1993-02-03  A meeting of the Federal Open Market Committee...   \n",
       "1   1993-03-23  A meeting of the Federal Open Market Committee...   \n",
       "2   1993-05-18  A meeting of the Federal Open Market Committee...   \n",
       "3   1993-07-07  A meeting of the Federal Open Market Committee...   \n",
       "4   1993-08-17  A meeting of the Federal Open Market Committee...   \n",
       "..         ...                                                ...   \n",
       "235 2022-09-21  The Federal Reserve, the central bank of the U...   \n",
       "236 2022-11-02  The Federal Reserve, the central bank of the U...   \n",
       "237 2022-12-14  The Federal Reserve, the central bank of the U...   \n",
       "238 2023-02-01  The Federal Reserve, the central bank of the U...   \n",
       "239 2023-03-22  The Federal Reserve, the central bank of the U...   \n",
       "\n",
       "     tar_rate_new  next_tar_rate  \n",
       "0            3.00           3.00  \n",
       "1            3.00           3.00  \n",
       "2            3.00           3.00  \n",
       "3            3.00           3.00  \n",
       "4            3.00           3.00  \n",
       "..            ...            ...  \n",
       "235          3.25           4.00  \n",
       "236          4.00           4.50  \n",
       "237          4.50           4.75  \n",
       "238          4.75           5.00  \n",
       "239          5.00            NaN  \n",
       "\n",
       "[240 rows x 4 columns]"
      ]
     },
     "execution_count": 10,
     "metadata": {},
     "output_type": "execute_result"
    }
   ],
   "source": [
    "df[\"next_tar_rate\"] = df[\"tar_rate_new\"].shift(-1)\n",
    "df"
   ]
  },
  {
   "cell_type": "code",
   "execution_count": 11,
   "metadata": {},
   "outputs": [
    {
     "data": {
      "text/plain": [
       "1"
      ]
     },
     "execution_count": 11,
     "metadata": {},
     "output_type": "execute_result"
    }
   ],
   "source": [
    "# From this link: https://www.federalreserve.gov/newsevents/pressreleases/monetary20230503a.htm\n",
    "# The feds increase rate from 5.00 to 5.25 in the next meeting\n",
    "# Therfore I replace the NaN value in row 239 (March 22, 2023 meeting) with 5.25\n",
    "# Only one NaN values, which is the thing i want to replace\n",
    "df.isna().sum().sum()"
   ]
  },
  {
   "cell_type": "code",
   "execution_count": 15,
   "metadata": {},
   "outputs": [],
   "source": [
    "df = df.replace(np.nan, 5.25)"
   ]
  },
  {
   "cell_type": "code",
   "execution_count": 21,
   "metadata": {},
   "outputs": [
    {
     "data": {
      "text/html": [
       "<div>\n",
       "<style scoped>\n",
       "    .dataframe tbody tr th:only-of-type {\n",
       "        vertical-align: middle;\n",
       "    }\n",
       "\n",
       "    .dataframe tbody tr th {\n",
       "        vertical-align: top;\n",
       "    }\n",
       "\n",
       "    .dataframe thead th {\n",
       "        text-align: right;\n",
       "    }\n",
       "</style>\n",
       "<table border=\"1\" class=\"dataframe\">\n",
       "  <thead>\n",
       "    <tr style=\"text-align: right;\">\n",
       "      <th></th>\n",
       "      <th>date</th>\n",
       "      <th>minutes</th>\n",
       "      <th>tar_rate_new</th>\n",
       "      <th>next_tar_rate</th>\n",
       "      <th>change</th>\n",
       "      <th>does_change</th>\n",
       "    </tr>\n",
       "  </thead>\n",
       "  <tbody>\n",
       "    <tr>\n",
       "      <th>0</th>\n",
       "      <td>1993-02-03</td>\n",
       "      <td>A meeting of the Federal Open Market Committee...</td>\n",
       "      <td>3.00</td>\n",
       "      <td>3.00</td>\n",
       "      <td>0.00</td>\n",
       "      <td>0</td>\n",
       "    </tr>\n",
       "    <tr>\n",
       "      <th>1</th>\n",
       "      <td>1993-03-23</td>\n",
       "      <td>A meeting of the Federal Open Market Committee...</td>\n",
       "      <td>3.00</td>\n",
       "      <td>3.00</td>\n",
       "      <td>0.00</td>\n",
       "      <td>0</td>\n",
       "    </tr>\n",
       "    <tr>\n",
       "      <th>2</th>\n",
       "      <td>1993-05-18</td>\n",
       "      <td>A meeting of the Federal Open Market Committee...</td>\n",
       "      <td>3.00</td>\n",
       "      <td>3.00</td>\n",
       "      <td>0.00</td>\n",
       "      <td>0</td>\n",
       "    </tr>\n",
       "    <tr>\n",
       "      <th>3</th>\n",
       "      <td>1993-07-07</td>\n",
       "      <td>A meeting of the Federal Open Market Committee...</td>\n",
       "      <td>3.00</td>\n",
       "      <td>3.00</td>\n",
       "      <td>0.00</td>\n",
       "      <td>0</td>\n",
       "    </tr>\n",
       "    <tr>\n",
       "      <th>4</th>\n",
       "      <td>1993-08-17</td>\n",
       "      <td>A meeting of the Federal Open Market Committee...</td>\n",
       "      <td>3.00</td>\n",
       "      <td>3.00</td>\n",
       "      <td>0.00</td>\n",
       "      <td>0</td>\n",
       "    </tr>\n",
       "    <tr>\n",
       "      <th>...</th>\n",
       "      <td>...</td>\n",
       "      <td>...</td>\n",
       "      <td>...</td>\n",
       "      <td>...</td>\n",
       "      <td>...</td>\n",
       "      <td>...</td>\n",
       "    </tr>\n",
       "    <tr>\n",
       "      <th>235</th>\n",
       "      <td>2022-09-21</td>\n",
       "      <td>The Federal Reserve, the central bank of the U...</td>\n",
       "      <td>3.25</td>\n",
       "      <td>4.00</td>\n",
       "      <td>0.75</td>\n",
       "      <td>1</td>\n",
       "    </tr>\n",
       "    <tr>\n",
       "      <th>236</th>\n",
       "      <td>2022-11-02</td>\n",
       "      <td>The Federal Reserve, the central bank of the U...</td>\n",
       "      <td>4.00</td>\n",
       "      <td>4.50</td>\n",
       "      <td>0.50</td>\n",
       "      <td>1</td>\n",
       "    </tr>\n",
       "    <tr>\n",
       "      <th>237</th>\n",
       "      <td>2022-12-14</td>\n",
       "      <td>The Federal Reserve, the central bank of the U...</td>\n",
       "      <td>4.50</td>\n",
       "      <td>4.75</td>\n",
       "      <td>0.25</td>\n",
       "      <td>1</td>\n",
       "    </tr>\n",
       "    <tr>\n",
       "      <th>238</th>\n",
       "      <td>2023-02-01</td>\n",
       "      <td>The Federal Reserve, the central bank of the U...</td>\n",
       "      <td>4.75</td>\n",
       "      <td>5.00</td>\n",
       "      <td>0.25</td>\n",
       "      <td>1</td>\n",
       "    </tr>\n",
       "    <tr>\n",
       "      <th>239</th>\n",
       "      <td>2023-03-22</td>\n",
       "      <td>The Federal Reserve, the central bank of the U...</td>\n",
       "      <td>5.00</td>\n",
       "      <td>5.25</td>\n",
       "      <td>0.25</td>\n",
       "      <td>1</td>\n",
       "    </tr>\n",
       "  </tbody>\n",
       "</table>\n",
       "<p>240 rows × 6 columns</p>\n",
       "</div>"
      ],
      "text/plain": [
       "          date                                            minutes  \\\n",
       "0   1993-02-03  A meeting of the Federal Open Market Committee...   \n",
       "1   1993-03-23  A meeting of the Federal Open Market Committee...   \n",
       "2   1993-05-18  A meeting of the Federal Open Market Committee...   \n",
       "3   1993-07-07  A meeting of the Federal Open Market Committee...   \n",
       "4   1993-08-17  A meeting of the Federal Open Market Committee...   \n",
       "..         ...                                                ...   \n",
       "235 2022-09-21  The Federal Reserve, the central bank of the U...   \n",
       "236 2022-11-02  The Federal Reserve, the central bank of the U...   \n",
       "237 2022-12-14  The Federal Reserve, the central bank of the U...   \n",
       "238 2023-02-01  The Federal Reserve, the central bank of the U...   \n",
       "239 2023-03-22  The Federal Reserve, the central bank of the U...   \n",
       "\n",
       "     tar_rate_new  next_tar_rate  change  does_change  \n",
       "0            3.00           3.00    0.00            0  \n",
       "1            3.00           3.00    0.00            0  \n",
       "2            3.00           3.00    0.00            0  \n",
       "3            3.00           3.00    0.00            0  \n",
       "4            3.00           3.00    0.00            0  \n",
       "..            ...            ...     ...          ...  \n",
       "235          3.25           4.00    0.75            1  \n",
       "236          4.00           4.50    0.50            1  \n",
       "237          4.50           4.75    0.25            1  \n",
       "238          4.75           5.00    0.25            1  \n",
       "239          5.00           5.25    0.25            1  \n",
       "\n",
       "[240 rows x 6 columns]"
      ]
     },
     "execution_count": 21,
     "metadata": {},
     "output_type": "execute_result"
    }
   ],
   "source": [
    "df[\"change\"] = df[\"next_tar_rate\"] - df[\"tar_rate_new\"]\n",
    "df[\"does_change\"] = df[\"change\"].apply(lambda x: 0 if x == 0 else 1)\n",
    "df"
   ]
  },
  {
   "cell_type": "code",
   "execution_count": 26,
   "metadata": {},
   "outputs": [
    {
     "data": {
      "text/plain": [
       "0    164\n",
       "1     76\n",
       "Name: does_change, dtype: int64"
      ]
     },
     "execution_count": 26,
     "metadata": {},
     "output_type": "execute_result"
    }
   ],
   "source": [
    "df[\"does_change\"].value_counts()"
   ]
  },
  {
   "cell_type": "code",
   "execution_count": 39,
   "metadata": {},
   "outputs": [],
   "source": [
    "# Save the DataFrame to a CSV file\n",
    "df.to_csv(\"fomc_data_final.csv\", index = False)"
   ]
  },
  {
   "attachments": {},
   "cell_type": "markdown",
   "metadata": {},
   "source": [
    "#### Plotting"
   ]
  },
  {
   "cell_type": "code",
   "execution_count": 37,
   "metadata": {},
   "outputs": [
    {
     "data": {
      "text/plain": [
       "<AxesSubplot: xlabel='date'>"
      ]
     },
     "execution_count": 37,
     "metadata": {},
     "output_type": "execute_result"
    },
    {
     "data": {
      "image/png": "[encoded data removed]",
      "text/plain": [
       "<Figure size 640x480 with 1 Axes>"
      ]
     },
     "metadata": {},
     "output_type": "display_data"
    }
   ],
   "source": [
    "df.plot(\"date\", \"tar_rate_new\")"
   ]
  },
  {
   "cell_type": "code",
   "execution_count": 4,
   "metadata": {},
   "outputs": [
    {
     "data": {
      "image/png": "[encoded data removed]",
      "text/plain": [
       "<Figure size 640x480 with 1 Axes>"
      ]
     },
     "metadata": {},
     "output_type": "display_data"
    }
   ],
   "source": [
    "import pandas_datareader.data as web\n",
    "import matplotlib.pyplot as plt\n",
    "\n",
    "start_date = '2020-01-01'\n",
    "end_date = '2022-12-31'\n",
    "\n",
    "fed_funds_rate = web.DataReader('FEDFUNDS', 'fred', start_date, end_date)\n",
    "\n",
    "plt.plot(fed_funds_rate)\n",
    "plt.title('Federal Funds Rate from 2012 to 2022')\n",
    "plt.xlabel('Date')\n",
    "plt.xticks(rotation=90)\n",
    "plt.ylabel('Rate (%)')\n",
    "plt.show()"
   ]
  },
  {
   "cell_type": "code",
   "execution_count": 38,
   "metadata": {},
   "outputs": [
    {
     "data": {
      "text/plain": [
       "array([ 0.  ,  0.25,  0.75,  0.5 , -0.25, -0.5 , -1.  , -1.25, -0.75,\n",
       "       -1.5 ])"
      ]
     },
     "execution_count": 38,
     "metadata": {},
     "output_type": "execute_result"
    }
   ],
   "source": [
    "df[\"change\"].unique()"
   ]
  },
  {
   "cell_type": "code",
   "execution_count": 5,
   "metadata": {},
   "outputs": [
    {
     "data": {
      "application/vnd.jupyter.widget-view+json": {
       "model_id": "85d3d17c210042bbb5bc87e0077acc59",
       "version_major": 2,
       "version_minor": 0
      },
      "text/plain": [
       "Downloading (…)solve/main/vocab.txt:   0%|          | 0.00/232k [00:00<?, ?B/s]"
      ]
     },
     "metadata": {},
     "output_type": "display_data"
    },
    {
     "data": {
      "application/vnd.jupyter.widget-view+json": {
       "model_id": "927b48c431f842edb93e3139986951e2",
       "version_major": 2,
       "version_minor": 0
      },
      "text/plain": [
       "Downloading (…)okenizer_config.json:   0%|          | 0.00/28.0 [00:00<?, ?B/s]"
      ]
     },
     "metadata": {},
     "output_type": "display_data"
    },
    {
     "data": {
      "application/vnd.jupyter.widget-view+json": {
       "model_id": "78b89fa76b23448b8bed948e126234b3",
       "version_major": 2,
       "version_minor": 0
      },
      "text/plain": [
       "Downloading (…)lve/main/config.json:   0%|          | 0.00/570 [00:00<?, ?B/s]"
      ]
     },
     "metadata": {},
     "output_type": "display_data"
    },
    {
     "data": {
      "application/vnd.jupyter.widget-view+json": {
       "model_id": "b04e145df6aa4ba39c5d39b5efc313d9",
       "version_major": 2,
       "version_minor": 0
      },
      "text/plain": [
       "Downloading pytorch_model.bin:   0%|          | 0.00/440M [00:00<?, ?B/s]"
      ]
     },
     "metadata": {},
     "output_type": "display_data"
    },
    {
     "name": "stderr",
     "output_type": "stream",
     "text": [
      "Some weights of the model checkpoint at bert-base-uncased were not used when initializing BertModel: ['cls.predictions.transform.dense.weight', 'cls.seq_relationship.bias', 'cls.predictions.bias', 'cls.seq_relationship.weight', 'cls.predictions.transform.LayerNorm.bias', 'cls.predictions.transform.LayerNorm.weight', 'cls.predictions.decoder.weight', 'cls.predictions.transform.dense.bias']\n",
      "- This IS expected if you are initializing BertModel from the checkpoint of a model trained on another task or with another architecture (e.g. initializing a BertForSequenceClassification model from a BertForPreTraining model).\n",
      "- This IS NOT expected if you are initializing BertModel from the checkpoint of a model that you expect to be exactly identical (initializing a BertForSequenceClassification model from a BertForSequenceClassification model).\n"
     ]
    },
    {
     "name": "stdout",
     "output_type": "stream",
     "text": [
      "Input IDs: tensor([[ 101, 2023, 2003, 2019, 2742,  102],\n",
      "        [ 101, 2023, 2003, 2178, 2742,  102]])\n",
      "Attention Mask: tensor([[1, 1, 1, 1, 1, 1],\n",
      "        [1, 1, 1, 1, 1, 1]])\n",
      "Embeddings: tensor([[[-2.0596e-01,  9.5147e-02, -8.2840e-02,  ..., -3.6662e-01,\n",
      "           4.6256e-01,  6.9678e-01],\n",
      "         [-5.5570e-01, -4.1348e-01,  2.5046e-01,  ..., -6.3024e-01,\n",
      "           8.2961e-01,  1.1416e-01],\n",
      "         [-1.9147e-01, -6.5897e-01,  7.8237e-01,  ..., -2.2145e-01,\n",
      "           6.0788e-01,  7.2486e-01],\n",
      "         [-2.6714e-01, -5.1210e-01,  7.7224e-01,  ...,  1.2525e-01,\n",
      "           6.3272e-01,  1.3925e+00],\n",
      "         [-5.7207e-01, -1.8810e-01, -3.4591e-02,  ..., -2.4534e-01,\n",
      "           5.6087e-01,  4.0126e-01],\n",
      "         [ 9.3498e-01,  9.8734e-02, -2.5121e-01,  ...,  3.1891e-01,\n",
      "          -7.7884e-01, -1.4572e-01]],\n",
      "\n",
      "        [[-6.7175e-02,  7.3521e-02, -4.4378e-02,  ..., -2.5377e-01,\n",
      "           5.2185e-01,  6.3348e-01],\n",
      "         [-3.0976e-01, -5.4706e-01,  2.5921e-01,  ..., -4.9619e-01,\n",
      "           9.6270e-01,  1.4764e-01],\n",
      "         [ 4.4178e-02, -8.2381e-01,  7.8165e-01,  ..., -1.0954e-01,\n",
      "           5.3249e-01,  6.9851e-01],\n",
      "         [-1.4902e-01, -7.2423e-01,  4.7894e-01,  ...,  1.1231e-01,\n",
      "           8.0545e-01,  5.9878e-01],\n",
      "         [-6.3697e-01,  2.2663e-04, -3.2308e-01,  ..., -6.9557e-02,\n",
      "           6.1246e-01,  1.4536e-01],\n",
      "         [ 9.6435e-01,  5.6831e-02, -1.7776e-01,  ...,  2.5404e-01,\n",
      "          -7.4994e-01, -1.7922e-01]]], grad_fn=<NativeLayerNormBackward0>)\n",
      "CLS Embedding: tensor([[-0.2060,  0.0951, -0.0828,  ..., -0.3666,  0.4626,  0.6968],\n",
      "        [-0.0672,  0.0735, -0.0444,  ..., -0.2538,  0.5218,  0.6335]],\n",
      "       grad_fn=<SliceBackward0>)\n"
     ]
    }
   ],
   "source": [
    "from transformers import BertTokenizer, BertModel\n",
    "\n",
    "# Initialize a tokenizer and a model\n",
    "tokenizer = BertTokenizer.from_pretrained('bert-base-uncased')\n",
    "model = BertModel.from_pretrained('bert-base-uncased')\n",
    "\n",
    "# Let's consider the following text\n",
    "text = [\"this is an example\", \"this is another example\"]\n",
    "\n",
    "# Tokenize the text\n",
    "tokens = tokenizer(text, padding=True, truncation=True, return_tensors='pt')\n",
    "\n",
    "# tokens is a dictionary that contains 'input_ids' and 'attention_mask'\n",
    "input_ids = tokens['input_ids']\n",
    "attention_mask = tokens['attention_mask']\n",
    "\n",
    "print('Input IDs:', input_ids)\n",
    "print('Attention Mask:', attention_mask)\n",
    "\n",
    "# Pass the tokens to the model to get the embeddings\n",
    "outputs = model(input_ids, attention_mask)\n",
    "\n",
    "# 'outputs' is a tuple, the first element of which is the embeddings tensor\n",
    "embeddings = outputs[0]\n",
    "\n",
    "print('Embeddings:', embeddings)\n",
    "\n",
    "# Extract the [CLS] token's embedding\n",
    "cls_embedding = embeddings[:, 0, :]\n",
    "\n",
    "print('CLS Embedding:', cls_embedding)\n"
   ]
  },
  {
   "cell_type": "code",
   "execution_count": 16,
   "metadata": {},
   "outputs": [
    {
     "data": {
      "text/plain": [
       "torch.Size([2, 768])"
      ]
     },
     "execution_count": 16,
     "metadata": {},
     "output_type": "execute_result"
    }
   ],
   "source": [
    "embeddings[:, 0, :].shape"
   ]
  },
  {
   "cell_type": "code",
   "execution_count": 17,
   "metadata": {},
   "outputs": [
    {
     "data": {
      "text/plain": [
       "torch.Size([2, 6, 768])"
      ]
     },
     "execution_count": 17,
     "metadata": {},
     "output_type": "execute_result"
    }
   ],
   "source": [
    "embeddings.shape"
   ]
  },
  {
   "cell_type": "code",
   "execution_count": null,
   "metadata": {},
   "outputs": [],
   "source": []
  }
 ],
 "metadata": {
  "kernelspec": {
   "display_name": "Python 3",
   "language": "python",
   "name": "python3"
  },
  "language_info": {
   "codemirror_mode": {
    "name": "ipython",
    "version": 3
   },
   "file_extension": ".py",
   "mimetype": "text/x-python",
   "name": "python",
   "nbconvert_exporter": "python",
   "pygments_lexer": "ipython3",
   "version": "3.10.10"
  },
  "orig_nbformat": 4
 },
 "nbformat": 4,
 "nbformat_minor": 2
}
